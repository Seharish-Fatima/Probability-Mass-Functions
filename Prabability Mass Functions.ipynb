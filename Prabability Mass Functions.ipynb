{
 "cells": [
  {
   "cell_type": "code",
   "execution_count": 1,
   "id": "0ad989c2-4271-44c5-98e6-8f754320c805",
   "metadata": {},
   "outputs": [],
   "source": [
    "from os.path import basename, exists\n",
    "\n",
    "\n",
    "def download(url):\n",
    "    filename = basename(url)\n",
    "    if not exists(filename):\n",
    "        from urllib.request import urlretrieve\n",
    "\n",
    "        local, _ = urlretrieve(url, filename)\n",
    "        print(\"Downloaded \" + local)"
   ]
  },
  {
   "cell_type": "code",
   "execution_count": 2,
   "id": "597461b7-ab08-49e6-a94e-77f36da8ede8",
   "metadata": {},
   "outputs": [],
   "source": [
    "download(\"https://github.com/AllenDowney/ThinkStats/raw/v3/nb/thinkstats.py\")"
   ]
  },
  {
   "cell_type": "code",
   "execution_count": 67,
   "id": "02c7400c-db7f-451c-ae9c-3180f10ff67f",
   "metadata": {},
   "outputs": [],
   "source": [
    "from empiricaldist import FreqTab, Pmf\n",
    "import numpy as np\n",
    "import pandas as pd\n",
    "from thinkstats import two_bar_plots, decorate\n",
    "from nsfg import get_nsfg_groups, read_fem_resp\n",
    "import matplotlib.pyplot as plt"
   ]
  },
  {
   "cell_type": "code",
   "execution_count": 4,
   "id": "c1c47850-0acc-451d-8ef7-936da48324c7",
   "metadata": {},
   "outputs": [
    {
     "data": {
      "text/html": [
       "<div>\n",
       "<style scoped>\n",
       "    .dataframe tbody tr th:only-of-type {\n",
       "        vertical-align: middle;\n",
       "    }\n",
       "\n",
       "    .dataframe tbody tr th {\n",
       "        vertical-align: top;\n",
       "    }\n",
       "\n",
       "    .dataframe thead th {\n",
       "        text-align: right;\n",
       "    }\n",
       "</style>\n",
       "<table border=\"1\" class=\"dataframe\">\n",
       "  <thead>\n",
       "    <tr style=\"text-align: right;\">\n",
       "      <th></th>\n",
       "      <th>freqs</th>\n",
       "    </tr>\n",
       "  </thead>\n",
       "  <tbody>\n",
       "    <tr>\n",
       "      <th>1</th>\n",
       "      <td>1</td>\n",
       "    </tr>\n",
       "    <tr>\n",
       "      <th>2</th>\n",
       "      <td>2</td>\n",
       "    </tr>\n",
       "    <tr>\n",
       "      <th>3</th>\n",
       "      <td>1</td>\n",
       "    </tr>\n",
       "    <tr>\n",
       "      <th>5</th>\n",
       "      <td>1</td>\n",
       "    </tr>\n",
       "  </tbody>\n",
       "</table>\n",
       "</div>"
      ],
      "text/plain": [
       "1    1\n",
       "2    2\n",
       "3    1\n",
       "5    1\n",
       "Name: , dtype: int64"
      ]
     },
     "execution_count": 4,
     "metadata": {},
     "output_type": "execute_result"
    }
   ],
   "source": [
    "df = FreqTab.from_seq([1, 2, 2, 3, 5])\n",
    "df"
   ]
  },
  {
   "cell_type": "code",
   "execution_count": 5,
   "id": "2a6b933e-a21e-4d4c-960e-7efedce1a97b",
   "metadata": {},
   "outputs": [
    {
     "data": {
      "text/plain": [
       "np.int64(5)"
      ]
     },
     "execution_count": 5,
     "metadata": {},
     "output_type": "execute_result"
    }
   ],
   "source": [
    "n = df.sum()\n",
    "n "
   ]
  },
  {
   "cell_type": "code",
   "execution_count": 6,
   "id": "afcb2ed7-5fe9-4b4d-88e4-5c739bf1f37e",
   "metadata": {},
   "outputs": [
    {
     "data": {
      "text/html": [
       "<div>\n",
       "<style scoped>\n",
       "    .dataframe tbody tr th:only-of-type {\n",
       "        vertical-align: middle;\n",
       "    }\n",
       "\n",
       "    .dataframe tbody tr th {\n",
       "        vertical-align: top;\n",
       "    }\n",
       "\n",
       "    .dataframe thead th {\n",
       "        text-align: right;\n",
       "    }\n",
       "</style>\n",
       "<table border=\"1\" class=\"dataframe\">\n",
       "  <thead>\n",
       "    <tr style=\"text-align: right;\">\n",
       "      <th></th>\n",
       "      <th>probs</th>\n",
       "    </tr>\n",
       "  </thead>\n",
       "  <tbody>\n",
       "    <tr>\n",
       "      <th>1</th>\n",
       "      <td>0.2</td>\n",
       "    </tr>\n",
       "    <tr>\n",
       "      <th>2</th>\n",
       "      <td>0.4</td>\n",
       "    </tr>\n",
       "    <tr>\n",
       "      <th>3</th>\n",
       "      <td>0.2</td>\n",
       "    </tr>\n",
       "    <tr>\n",
       "      <th>5</th>\n",
       "      <td>0.2</td>\n",
       "    </tr>\n",
       "  </tbody>\n",
       "</table>\n",
       "</div>"
      ],
      "text/plain": [
       "1    0.2\n",
       "2    0.4\n",
       "3    0.2\n",
       "5    0.2\n",
       "Name: , dtype: float64"
      ]
     },
     "execution_count": 6,
     "metadata": {},
     "output_type": "execute_result"
    }
   ],
   "source": [
    "pmf = df / n\n",
    "pmf"
   ]
  },
  {
   "cell_type": "code",
   "execution_count": 7,
   "id": "c3a1210a-503a-4a1e-9fa6-7c3b5b341872",
   "metadata": {},
   "outputs": [
    {
     "data": {
      "text/plain": [
       "np.float64(1.0)"
      ]
     },
     "execution_count": 7,
     "metadata": {},
     "output_type": "execute_result"
    }
   ],
   "source": [
    "pmf.sum()"
   ]
  },
  {
   "cell_type": "code",
   "execution_count": 8,
   "id": "028b75c5-5efe-4bfe-8d33-cce148edaee8",
   "metadata": {},
   "outputs": [
    {
     "data": {
      "text/html": [
       "<div>\n",
       "<style scoped>\n",
       "    .dataframe tbody tr th:only-of-type {\n",
       "        vertical-align: middle;\n",
       "    }\n",
       "\n",
       "    .dataframe tbody tr th {\n",
       "        vertical-align: top;\n",
       "    }\n",
       "\n",
       "    .dataframe thead th {\n",
       "        text-align: right;\n",
       "    }\n",
       "</style>\n",
       "<table border=\"1\" class=\"dataframe\">\n",
       "  <thead>\n",
       "    <tr style=\"text-align: right;\">\n",
       "      <th></th>\n",
       "      <th>probs</th>\n",
       "    </tr>\n",
       "  </thead>\n",
       "  <tbody>\n",
       "    <tr>\n",
       "      <th>1</th>\n",
       "      <td>0.2</td>\n",
       "    </tr>\n",
       "    <tr>\n",
       "      <th>2</th>\n",
       "      <td>0.4</td>\n",
       "    </tr>\n",
       "    <tr>\n",
       "      <th>3</th>\n",
       "      <td>0.2</td>\n",
       "    </tr>\n",
       "    <tr>\n",
       "      <th>5</th>\n",
       "      <td>0.2</td>\n",
       "    </tr>\n",
       "  </tbody>\n",
       "</table>\n",
       "</div>"
      ],
      "text/plain": [
       "1    0.2\n",
       "2    0.4\n",
       "3    0.2\n",
       "5    0.2\n",
       "Name: , dtype: float64"
      ]
     },
     "execution_count": 8,
     "metadata": {},
     "output_type": "execute_result"
    }
   ],
   "source": [
    "pmf = Pmf.from_seq([1, 2, 2, 3, 5])\n",
    "pmf"
   ]
  },
  {
   "cell_type": "code",
   "execution_count": 9,
   "id": "a1dae829-1de2-4674-b73f-c23cac1fd10a",
   "metadata": {},
   "outputs": [
    {
     "data": {
      "text/plain": [
       "np.float64(1.0)"
      ]
     },
     "execution_count": 9,
     "metadata": {},
     "output_type": "execute_result"
    }
   ],
   "source": [
    "pmf.sum()"
   ]
  },
  {
   "cell_type": "code",
   "execution_count": 10,
   "id": "241bac62-cf70-400d-a22d-4ab230cd06d8",
   "metadata": {},
   "outputs": [
    {
     "data": {
      "text/plain": [
       "np.float64(0.4)"
      ]
     },
     "execution_count": 10,
     "metadata": {},
     "output_type": "execute_result"
    }
   ],
   "source": [
    "pmf[2]"
   ]
  },
  {
   "cell_type": "code",
   "execution_count": 11,
   "id": "42619745-d2bc-4fae-84f8-9af59795efb9",
   "metadata": {},
   "outputs": [
    {
     "data": {
      "text/plain": [
       "np.float64(0.4)"
      ]
     },
     "execution_count": 11,
     "metadata": {},
     "output_type": "execute_result"
    }
   ],
   "source": [
    "pmf(2)"
   ]
  },
  {
   "cell_type": "code",
   "execution_count": 12,
   "id": "e6b7998c-ac90-4d3e-9ecc-6408f3f06dc8",
   "metadata": {},
   "outputs": [
    {
     "data": {
      "text/plain": [
       "np.float64(0.2)"
      ]
     },
     "execution_count": 12,
     "metadata": {},
     "output_type": "execute_result"
    }
   ],
   "source": [
    "pmf[2] = 0.2\n",
    "pmf(2)"
   ]
  },
  {
   "cell_type": "code",
   "execution_count": 13,
   "id": "afa238ce-c39f-4020-8d43-efabbcef3b35",
   "metadata": {},
   "outputs": [
    {
     "data": {
      "text/plain": [
       "np.float64(0.5)"
      ]
     },
     "execution_count": 13,
     "metadata": {},
     "output_type": "execute_result"
    }
   ],
   "source": [
    "pmf[2] += 0.3\n",
    "pmf(2)"
   ]
  },
  {
   "cell_type": "code",
   "execution_count": 14,
   "id": "8557ab71-98d5-4b51-bc2c-0395868222db",
   "metadata": {},
   "outputs": [
    {
     "data": {
      "text/plain": [
       "np.float64(0.25)"
      ]
     },
     "execution_count": 14,
     "metadata": {},
     "output_type": "execute_result"
    }
   ],
   "source": [
    "pmf[2] *= 0.5\n",
    "pmf(2)"
   ]
  },
  {
   "cell_type": "code",
   "execution_count": 15,
   "id": "fa80203e-5a18-4c68-8b1f-d0e65ac2cb22",
   "metadata": {},
   "outputs": [
    {
     "data": {
      "text/plain": [
       "np.float64(0.8500000000000001)"
      ]
     },
     "execution_count": 15,
     "metadata": {},
     "output_type": "execute_result"
    }
   ],
   "source": [
    "pmf.sum()"
   ]
  },
  {
   "cell_type": "code",
   "execution_count": 16,
   "id": "1ba93703-ac18-479f-8444-8d4996dc9624",
   "metadata": {},
   "outputs": [
    {
     "data": {
      "text/plain": [
       "np.float64(0.8500000000000001)"
      ]
     },
     "execution_count": 16,
     "metadata": {},
     "output_type": "execute_result"
    }
   ],
   "source": [
    "pmf.normalize()"
   ]
  },
  {
   "cell_type": "code",
   "execution_count": 17,
   "id": "3841dd9d-8bfb-42ff-b4a6-acc2389db633",
   "metadata": {},
   "outputs": [
    {
     "data": {
      "text/plain": [
       "np.float64(1.0)"
      ]
     },
     "execution_count": 17,
     "metadata": {},
     "output_type": "execute_result"
    }
   ],
   "source": [
    "pmf.sum()"
   ]
  },
  {
   "cell_type": "code",
   "execution_count": 18,
   "id": "5ea05aac-ef6f-421a-b5f7-0257249ee859",
   "metadata": {},
   "outputs": [
    {
     "data": {
      "text/html": [
       "<div>\n",
       "<style scoped>\n",
       "    .dataframe tbody tr th:only-of-type {\n",
       "        vertical-align: middle;\n",
       "    }\n",
       "\n",
       "    .dataframe tbody tr th {\n",
       "        vertical-align: top;\n",
       "    }\n",
       "\n",
       "    .dataframe thead th {\n",
       "        text-align: right;\n",
       "    }\n",
       "</style>\n",
       "<table border=\"1\" class=\"dataframe\">\n",
       "  <thead>\n",
       "    <tr style=\"text-align: right;\">\n",
       "      <th></th>\n",
       "      <th>probs</th>\n",
       "    </tr>\n",
       "  </thead>\n",
       "  <tbody>\n",
       "    <tr>\n",
       "      <th>1</th>\n",
       "      <td>0.235294</td>\n",
       "    </tr>\n",
       "    <tr>\n",
       "      <th>2</th>\n",
       "      <td>0.294118</td>\n",
       "    </tr>\n",
       "    <tr>\n",
       "      <th>3</th>\n",
       "      <td>0.235294</td>\n",
       "    </tr>\n",
       "    <tr>\n",
       "      <th>5</th>\n",
       "      <td>0.235294</td>\n",
       "    </tr>\n",
       "  </tbody>\n",
       "</table>\n",
       "</div>"
      ],
      "text/plain": [
       "1    0.235294\n",
       "2    0.294118\n",
       "3    0.235294\n",
       "5    0.235294\n",
       "Name: , dtype: float64"
      ]
     },
     "execution_count": 18,
     "metadata": {},
     "output_type": "execute_result"
    }
   ],
   "source": [
    "pmf"
   ]
  },
  {
   "cell_type": "code",
   "execution_count": 19,
   "id": "56191e47-5cd5-48d6-b2da-3a2e7a4b93fb",
   "metadata": {},
   "outputs": [
    {
     "data": {
      "text/plain": [
       "np.float64(2.6)"
      ]
     },
     "execution_count": 19,
     "metadata": {},
     "output_type": "execute_result"
    }
   ],
   "source": [
    "seq = [1, 2, 2, 3, 5]\n",
    "n = len(seq)\n",
    "mean = np.sum(seq) / n\n",
    "mean"
   ]
  },
  {
   "cell_type": "code",
   "execution_count": 20,
   "id": "b27ee317-0357-4426-ba34-d49380096ef5",
   "metadata": {},
   "outputs": [
    {
     "data": {
      "text/plain": [
       "np.float64(2.6)"
      ]
     },
     "execution_count": 20,
     "metadata": {},
     "output_type": "execute_result"
    }
   ],
   "source": [
    "pmf = Pmf.from_seq(seq)\n",
    "np.sum(pmf.ps * pmf.qs)\n",
    "mean"
   ]
  },
  {
   "cell_type": "code",
   "execution_count": 21,
   "id": "d6916303-1d6e-452d-b1e1-58520d31f318",
   "metadata": {},
   "outputs": [
    {
     "data": {
      "text/plain": [
       "np.float64(2.6)"
      ]
     },
     "execution_count": 21,
     "metadata": {},
     "output_type": "execute_result"
    }
   ],
   "source": [
    "pmf.mean()"
   ]
  },
  {
   "cell_type": "code",
   "execution_count": 22,
   "id": "305a18c6-0307-4699-ab1c-b90baed81b42",
   "metadata": {},
   "outputs": [
    {
     "data": {
      "text/plain": [
       "array([-1.6, -0.6,  0.4,  2.4])"
      ]
     },
     "execution_count": 22,
     "metadata": {},
     "output_type": "execute_result"
    }
   ],
   "source": [
    "deviations = pmf.qs - mean\n",
    "deviations"
   ]
  },
  {
   "cell_type": "code",
   "execution_count": 23,
   "id": "00fb347c-0fbf-4222-a062-2c63c1fde7d0",
   "metadata": {},
   "outputs": [
    {
     "data": {
      "text/plain": [
       "np.float64(1.84)"
      ]
     },
     "execution_count": 23,
     "metadata": {},
     "output_type": "execute_result"
    }
   ],
   "source": [
    "var = np.sum(pmf.ps * deviations ** 2)\n",
    "var"
   ]
  },
  {
   "cell_type": "code",
   "execution_count": 24,
   "id": "0ac1f648-aafd-46ab-bd6c-df26b81156e5",
   "metadata": {},
   "outputs": [
    {
     "data": {
      "text/plain": [
       "np.float64(1.84)"
      ]
     },
     "execution_count": 24,
     "metadata": {},
     "output_type": "execute_result"
    }
   ],
   "source": [
    "pmf.var()"
   ]
  },
  {
   "cell_type": "code",
   "execution_count": 25,
   "id": "4981164a-bae2-494a-a70f-2b37ae12a28f",
   "metadata": {},
   "outputs": [
    {
     "data": {
      "text/plain": [
       "np.float64(1.3564659966250536)"
      ]
     },
     "execution_count": 25,
     "metadata": {},
     "output_type": "execute_result"
    }
   ],
   "source": [
    "np.sqrt(var)"
   ]
  },
  {
   "cell_type": "code",
   "execution_count": 26,
   "id": "41d1467f-b5a7-4414-81c4-757fe87cbdd9",
   "metadata": {},
   "outputs": [
    {
     "data": {
      "text/plain": [
       "np.float64(1.3564659966250536)"
      ]
     },
     "execution_count": 26,
     "metadata": {},
     "output_type": "execute_result"
    }
   ],
   "source": [
    "pmf.std()"
   ]
  },
  {
   "cell_type": "code",
   "execution_count": 27,
   "id": "5087b95b-19ad-43d7-9bfb-a8893a34eed6",
   "metadata": {},
   "outputs": [
    {
     "data": {
      "text/plain": [
       "np.int64(2)"
      ]
     },
     "execution_count": 27,
     "metadata": {},
     "output_type": "execute_result"
    }
   ],
   "source": [
    "pmf.mode()"
   ]
  },
  {
   "cell_type": "code",
   "execution_count": 28,
   "id": "68a7daba-4796-4893-9c1c-00e1e04700de",
   "metadata": {},
   "outputs": [
    {
     "data": {
      "text/html": [
       "<div>\n",
       "<style scoped>\n",
       "    .dataframe tbody tr th:only-of-type {\n",
       "        vertical-align: middle;\n",
       "    }\n",
       "\n",
       "    .dataframe tbody tr th {\n",
       "        vertical-align: top;\n",
       "    }\n",
       "\n",
       "    .dataframe thead th {\n",
       "        text-align: right;\n",
       "    }\n",
       "</style>\n",
       "<table border=\"1\" class=\"dataframe\">\n",
       "  <thead>\n",
       "    <tr style=\"text-align: right;\">\n",
       "      <th></th>\n",
       "      <th>count</th>\n",
       "    </tr>\n",
       "    <tr>\n",
       "      <th>class size</th>\n",
       "      <th></th>\n",
       "    </tr>\n",
       "  </thead>\n",
       "  <tbody>\n",
       "    <tr>\n",
       "      <th>[5, 10)</th>\n",
       "      <td>8</td>\n",
       "    </tr>\n",
       "    <tr>\n",
       "      <th>[10, 15)</th>\n",
       "      <td>8</td>\n",
       "    </tr>\n",
       "    <tr>\n",
       "      <th>[15, 20)</th>\n",
       "      <td>14</td>\n",
       "    </tr>\n",
       "    <tr>\n",
       "      <th>[20, 25)</th>\n",
       "      <td>4</td>\n",
       "    </tr>\n",
       "    <tr>\n",
       "      <th>[25, 30)</th>\n",
       "      <td>6</td>\n",
       "    </tr>\n",
       "    <tr>\n",
       "      <th>[30, 35)</th>\n",
       "      <td>12</td>\n",
       "    </tr>\n",
       "    <tr>\n",
       "      <th>[35, 40)</th>\n",
       "      <td>8</td>\n",
       "    </tr>\n",
       "    <tr>\n",
       "      <th>[40, 45)</th>\n",
       "      <td>3</td>\n",
       "    </tr>\n",
       "    <tr>\n",
       "      <th>[45, 50)</th>\n",
       "      <td>2</td>\n",
       "    </tr>\n",
       "  </tbody>\n",
       "</table>\n",
       "</div>"
      ],
      "text/plain": [
       "            count\n",
       "class size       \n",
       "[5, 10)         8\n",
       "[10, 15)        8\n",
       "[15, 20)       14\n",
       "[20, 25)        4\n",
       "[25, 30)        6\n",
       "[30, 35)       12\n",
       "[35, 40)        8\n",
       "[40, 45)        3\n",
       "[45, 50)        2"
      ]
     },
     "execution_count": 28,
     "metadata": {},
     "output_type": "execute_result"
    }
   ],
   "source": [
    "ranges = pd.interval_range(start = 5, end = 50, freq = 5, closed = \"left\")\n",
    "ranges.name = \"class size\"\n",
    "df = pd.DataFrame(index = ranges)\n",
    "df[\"count\"] = [8,8,14,4,6,12,8,3,2]\n",
    "df"
   ]
  },
  {
   "cell_type": "code",
   "execution_count": 29,
   "id": "1123114c-f6d3-4fee-b08b-81e7fc852f52",
   "metadata": {},
   "outputs": [
    {
     "data": {
      "text/plain": [
       "Index([7, 12, 17, 22, 27, 32, 37, 42, 47], dtype='int64')"
      ]
     },
     "execution_count": 29,
     "metadata": {},
     "output_type": "execute_result"
    }
   ],
   "source": [
    "sizes = ranges.left + 2\n",
    "sizes"
   ]
  },
  {
   "cell_type": "code",
   "execution_count": 30,
   "id": "d6e4c22d-1632-424f-8796-83023e55200b",
   "metadata": {},
   "outputs": [
    {
     "data": {
      "text/plain": [
       "np.int64(65)"
      ]
     },
     "execution_count": 30,
     "metadata": {},
     "output_type": "execute_result"
    }
   ],
   "source": [
    "counts = df['count']\n",
    "actual_pmf = Pmf(counts, sizes, name = \"actual\")\n",
    "actual_pmf.normalize()"
   ]
  },
  {
   "cell_type": "code",
   "execution_count": 31,
   "id": "bcaa58a9-f482-4747-9c3f-8cc374b46531",
   "metadata": {},
   "outputs": [
    {
     "data": {
      "text/plain": [
       "np.float64(23.692307692307693)"
      ]
     },
     "execution_count": 31,
     "metadata": {},
     "output_type": "execute_result"
    }
   ],
   "source": [
    "actual_pmf.mean()"
   ]
  },
  {
   "cell_type": "code",
   "execution_count": 32,
   "id": "51214eb0-d89c-4d44-a40f-90357df03062",
   "metadata": {},
   "outputs": [],
   "source": [
    "def bias(pmf, name):\n",
    "    ps = pmf.ps * pmf.qs\n",
    "    new_pmf = Pmf(ps, pmf.qs, name = name)\n",
    "    new_pmf.normalize()\n",
    "    return new_pmf"
   ]
  },
  {
   "cell_type": "code",
   "execution_count": 33,
   "id": "74cd9884-17cb-4683-90db-79edc2b9d90e",
   "metadata": {},
   "outputs": [],
   "source": [
    "observed_pmf = bias(actual_pmf, name = \"Observed\")"
   ]
  },
  {
   "cell_type": "code",
   "execution_count": 34,
   "id": "d582de35-40fd-4de8-a649-661f3a1a7af4",
   "metadata": {},
   "outputs": [
    {
     "data": {
      "image/png": "[encoded data removed]",
      "text/plain": [
       "<Figure size 450x262.5 with 1 Axes>"
      ]
     },
     "metadata": {},
     "output_type": "display_data"
    }
   ],
   "source": [
    "two_bar_plots(actual_pmf, observed_pmf, width = 2)\n",
    "decorate(xlabel = \"Class Size\", ylabel = \"PMF\")"
   ]
  },
  {
   "cell_type": "code",
   "execution_count": 35,
   "id": "ad6b2cea-5ee7-472a-9e28-7e85a577e0cb",
   "metadata": {},
   "outputs": [
    {
     "data": {
      "text/plain": [
       "np.float64(29.123376623376622)"
      ]
     },
     "execution_count": 35,
     "metadata": {},
     "output_type": "execute_result"
    }
   ],
   "source": [
    "observed_pmf.mean()"
   ]
  },
  {
   "cell_type": "code",
   "execution_count": 36,
   "id": "22132113-43c9-43db-9abc-46b7bf7f5b87",
   "metadata": {},
   "outputs": [],
   "source": [
    "def unbias(pmf, name):\n",
    "    ps = pmf.ps / pmf.qs\n",
    "    new_pmf = Pmf(ps, pmf.qs, name = name)\n",
    "    new_pmf.normalize()\n",
    "    return new_pmf"
   ]
  },
  {
   "cell_type": "code",
   "execution_count": 37,
   "id": "d270e69e-e069-4f64-a528-9b2db99db237",
   "metadata": {},
   "outputs": [
    {
     "data": {
      "text/plain": [
       "np.float64(23.692307692307693)"
      ]
     },
     "execution_count": 37,
     "metadata": {},
     "output_type": "execute_result"
    }
   ],
   "source": [
    "debiased_pmf = unbias(observed_pmf, \"debiased\")\n",
    "debiased_pmf.mean()"
   ]
  },
  {
   "cell_type": "code",
   "execution_count": 38,
   "id": "3033afb6-0c02-4834-92e8-e2ab9a5bed33",
   "metadata": {},
   "outputs": [],
   "source": [
    "live, firsts, others = get_nsfg_groups()\n",
    "first_pmf = Pmf.from_seq(firsts[\"prglngth\"], name = \"firsts\")\n",
    "other_pmf = Pmf.from_seq(others[\"prglngth\"], name = \"others\")"
   ]
  },
  {
   "cell_type": "code",
   "execution_count": 39,
   "id": "2fad2078-ed4a-4dd4-b3a5-21f14e9e9321",
   "metadata": {},
   "outputs": [
    {
     "data": {
      "image/png": "[encoded data removed]",
      "text/plain": [
       "<Figure size 450x262.5 with 1 Axes>"
      ]
     },
     "metadata": {},
     "output_type": "display_data"
    }
   ],
   "source": [
    "two_bar_plots(first_pmf, other_pmf)\n",
    "decorate(xlabel = \"Weeks\", ylabel = \"Probability\", xlim = [20,50])"
   ]
  },
  {
   "cell_type": "code",
   "execution_count": 40,
   "id": "500a2527-8f3c-4a5d-aa19-dc14a7737db6",
   "metadata": {},
   "outputs": [
    {
     "data": {
      "text/plain": [
       "array([0.03602991, 0.03897575, 0.04713347, 0.06163608, 0.4790392 ,\n",
       "       0.12145932, 0.08157716, 0.04645366, 0.01971448, 0.00521187,\n",
       "       0.00135962])"
      ]
     },
     "execution_count": 40,
     "metadata": {},
     "output_type": "execute_result"
    }
   ],
   "source": [
    "weeks = range(35, 46)\n",
    "first_pmf(weeks)"
   ]
  },
  {
   "cell_type": "code",
   "execution_count": 41,
   "id": "2949e74c-6bff-462e-afbb-99e635a09971",
   "metadata": {},
   "outputs": [
    {
     "data": {
      "text/plain": [
       "array([0.03210137, 0.03146779, 0.05216473, 0.07074974, 0.54466737,\n",
       "       0.12249208, 0.04794087, 0.02597677, 0.01288279, 0.00485744,\n",
       "       0.00084477])"
      ]
     },
     "execution_count": 41,
     "metadata": {},
     "output_type": "execute_result"
    }
   ],
   "source": [
    "other_pmf(weeks)"
   ]
  },
  {
   "cell_type": "code",
   "execution_count": 42,
   "id": "3a3092b0-26fa-4724-9c8d-0038d8867ac2",
   "metadata": {},
   "outputs": [
    {
     "data": {
      "text/plain": [
       "array([ 0.00392854,  0.00750796, -0.00503126, -0.00911366, -0.06562817,\n",
       "       -0.00103276,  0.03363629,  0.02047689,  0.00683169,  0.00035443,\n",
       "        0.00051485])"
      ]
     },
     "execution_count": 42,
     "metadata": {},
     "output_type": "execute_result"
    }
   ],
   "source": [
    "diffs = first_pmf(weeks) - other_pmf(weeks)\n",
    "diffs"
   ]
  },
  {
   "cell_type": "code",
   "execution_count": 43,
   "id": "afc9491c-a32d-447e-aaa1-5f97b9fd83a4",
   "metadata": {},
   "outputs": [
    {
     "data": {
      "image/png": "[encoded data removed]",
      "text/plain": [
       "<Figure size 450x262.5 with 1 Axes>"
      ]
     },
     "metadata": {},
     "output_type": "display_data"
    }
   ],
   "source": [
    "plt.bar(weeks, diffs * 100)\n",
    "decorate(xlabel = \"Weeks\", ylabel = \"Difference (Percentage Points)\")"
   ]
  },
  {
   "cell_type": "code",
   "execution_count": 44,
   "id": "133d1ec5-8f64-4d0a-80f0-a35973518cc9",
   "metadata": {},
   "outputs": [
    {
     "data": {
      "text/plain": [
       "(7643, 3092)"
      ]
     },
     "execution_count": 44,
     "metadata": {},
     "output_type": "execute_result"
    }
   ],
   "source": [
    "df = read_fem_resp()\n",
    "df.shape"
   ]
  },
  {
   "cell_type": "code",
   "execution_count": 45,
   "id": "55fcdf65-ef49-4d7a-818c-7c5517f1ed43",
   "metadata": {},
   "outputs": [
    {
     "data": {
      "text/plain": [
       "numbabes\n",
       "0     3229\n",
       "2     1603\n",
       "1     1519\n",
       "3      828\n",
       "4      309\n",
       "5       95\n",
       "6       29\n",
       "7       15\n",
       "8        8\n",
       "10       3\n",
       "9        2\n",
       "22       1\n",
       "97       1\n",
       "16       1\n",
       "Name: count, dtype: int64"
      ]
     },
     "execution_count": 45,
     "metadata": {},
     "output_type": "execute_result"
    }
   ],
   "source": [
    "df['numbabes'].value_counts()"
   ]
  },
  {
   "cell_type": "code",
   "execution_count": 46,
   "id": "0d9b1e13-1f53-4469-8094-1ae17ed5022e",
   "metadata": {},
   "outputs": [],
   "source": [
    "df['numbabes'] = df['numbabes'].replace([22, 97, 98, 99], np.nan)"
   ]
  },
  {
   "cell_type": "code",
   "execution_count": 47,
   "id": "b5f36177-6eec-4c95-8de8-76639efde20c",
   "metadata": {},
   "outputs": [
    {
     "data": {
      "text/html": [
       "<div>\n",
       "<style scoped>\n",
       "    .dataframe tbody tr th:only-of-type {\n",
       "        vertical-align: middle;\n",
       "    }\n",
       "\n",
       "    .dataframe tbody tr th {\n",
       "        vertical-align: top;\n",
       "    }\n",
       "\n",
       "    .dataframe thead th {\n",
       "        text-align: right;\n",
       "    }\n",
       "</style>\n",
       "<table border=\"1\" class=\"dataframe\">\n",
       "  <thead>\n",
       "    <tr style=\"text-align: right;\">\n",
       "      <th></th>\n",
       "      <th>freqs</th>\n",
       "    </tr>\n",
       "    <tr>\n",
       "      <th>numbabes</th>\n",
       "      <th></th>\n",
       "    </tr>\n",
       "  </thead>\n",
       "  <tbody>\n",
       "    <tr>\n",
       "      <th>0.0</th>\n",
       "      <td>3229</td>\n",
       "    </tr>\n",
       "    <tr>\n",
       "      <th>1.0</th>\n",
       "      <td>1519</td>\n",
       "    </tr>\n",
       "    <tr>\n",
       "      <th>2.0</th>\n",
       "      <td>1603</td>\n",
       "    </tr>\n",
       "    <tr>\n",
       "      <th>3.0</th>\n",
       "      <td>828</td>\n",
       "    </tr>\n",
       "    <tr>\n",
       "      <th>4.0</th>\n",
       "      <td>309</td>\n",
       "    </tr>\n",
       "    <tr>\n",
       "      <th>5.0</th>\n",
       "      <td>95</td>\n",
       "    </tr>\n",
       "    <tr>\n",
       "      <th>6.0</th>\n",
       "      <td>29</td>\n",
       "    </tr>\n",
       "    <tr>\n",
       "      <th>7.0</th>\n",
       "      <td>15</td>\n",
       "    </tr>\n",
       "    <tr>\n",
       "      <th>8.0</th>\n",
       "      <td>8</td>\n",
       "    </tr>\n",
       "    <tr>\n",
       "      <th>9.0</th>\n",
       "      <td>2</td>\n",
       "    </tr>\n",
       "    <tr>\n",
       "      <th>10.0</th>\n",
       "      <td>3</td>\n",
       "    </tr>\n",
       "    <tr>\n",
       "      <th>16.0</th>\n",
       "      <td>1</td>\n",
       "    </tr>\n",
       "  </tbody>\n",
       "</table>\n",
       "</div>"
      ],
      "text/plain": [
       "numbabes\n",
       "0.0     3229\n",
       "1.0     1519\n",
       "2.0     1603\n",
       "3.0      828\n",
       "4.0      309\n",
       "5.0       95\n",
       "6.0       29\n",
       "7.0       15\n",
       "8.0        8\n",
       "9.0        2\n",
       "10.0       3\n",
       "16.0       1\n",
       "Name: numbabes, dtype: int64"
      ]
     },
     "execution_count": 47,
     "metadata": {},
     "output_type": "execute_result"
    }
   ],
   "source": [
    "ftab_babes = FreqTab.from_seq(df['numbabes'], name=\"numbabes\")\n",
    "ftab_babes"
   ]
  },
  {
   "cell_type": "code",
   "execution_count": 48,
   "id": "3de39fdd-a665-4936-a8b3-b774a41d1363",
   "metadata": {},
   "outputs": [
    {
     "data": {
      "image/png": "[encoded data removed]",
      "text/plain": [
       "<Figure size 450x262.5 with 1 Axes>"
      ]
     },
     "metadata": {},
     "output_type": "display_data"
    }
   ],
   "source": [
    "pmf_babes = Pmf.from_seq(df['numbabes'].dropna(), name='numbabes')\n",
    "pmf_babes.bar()\n",
    "decorate(xlabel=\"Number of Babies Born Alive\", ylabel=\"Probability\")"
   ]
  },
  {
   "cell_type": "code",
   "execution_count": 63,
   "id": "b24020ae-eca0-4b22-9894-e523b229d07d",
   "metadata": {},
   "outputs": [],
   "source": [
    "df['numbabes'] = df['numbabes'].replace([97], np.nan)\n",
    "pmf = Pmf.from_seq(df['numbabes'].dropna(), name=\"numbabes\")"
   ]
  },
  {
   "cell_type": "code",
   "execution_count": 64,
   "id": "601945a6-204c-450e-86f9-7fdc2bbc6d65",
   "metadata": {},
   "outputs": [],
   "source": [
    "def pmf_skewness(pmf):\n",
    "    mean = np.sum(pmf.ps * pmf.qs)\n",
    "    deviation = pmf.qs - mean\n",
    "    skewness = np.sum(pmf.ps * deviation**3) / (np.std(pmf.qs, ddof=0) ** 3)\n",
    "    return skewness"
   ]
  },
  {
   "cell_type": "code",
   "execution_count": 65,
   "id": "cedabb68-e9ab-43c4-971f-dbbd1d01e6a9",
   "metadata": {},
   "outputs": [
    {
     "data": {
      "text/plain": [
       "np.float64(0.04316177163954396)"
      ]
     },
     "execution_count": 65,
     "metadata": {},
     "output_type": "execute_result"
    }
   ],
   "source": [
    "pmf_skewness(pmf)"
   ]
  },
  {
   "cell_type": "code",
   "execution_count": 68,
   "id": "7770cec7-d3a3-4525-a219-2cb49d04f1da",
   "metadata": {},
   "outputs": [
    {
     "data": {
      "image/png": "[encoded data removed]",
      "text/plain": [
       "<Figure size 450x262.5 with 1 Axes>"
      ]
     },
     "metadata": {},
     "output_type": "display_data"
    }
   ],
   "source": [
    "pmf = Pmf.from_seq(df['numkdhh'].dropna(), name=\"numkdhh\")\n",
    "pmf.bar()\n",
    "decorate(xlabel=\"Number of kids under 18\", ylabel=\"Probability\")"
   ]
  },
  {
   "cell_type": "code",
   "execution_count": 69,
   "id": "a7598518-e84e-4b3c-af39-30990fc59a74",
   "metadata": {},
   "outputs": [],
   "source": [
    "def bias_pmf(pmf):\n",
    "    biased = pmf.copy()\n",
    "    biased.ps = biased.qs * biased.ps\n",
    "    biased.normalize()\n",
    "    return biased"
   ]
  },
  {
   "cell_type": "code",
   "execution_count": 79,
   "id": "4a27daee-ed5f-4d70-85fe-0d8ddc44c9c0",
   "metadata": {},
   "outputs": [],
   "source": [
    "def bias_pmf(pmf):\n",
    "    biased = pmf.copy()\n",
    "    values = biased.qs   \n",
    "    probs = biased.ps    \n",
    "\n",
    "    new_probs = values * probs  \n",
    "    biased = Pmf(new_probs)\n",
    "    biased.normalize()\n",
    "    return biased"
   ]
  },
  {
   "cell_type": "code",
   "execution_count": 81,
   "id": "165ca3a7-d942-44c1-aaae-a3a83a00e3c6",
   "metadata": {},
   "outputs": [
    {
     "data": {
      "image/png": "[encoded data removed]",
      "text/plain": [
       "<Figure size 450x262.5 with 1 Axes>"
      ]
     },
     "metadata": {},
     "output_type": "display_data"
    }
   ],
   "source": [
    "biased = bias_pmf(pmf)\n",
    "\n",
    "pmf.bar(label=\"Actual\", edgecolor='black')\n",
    "biased.bar(label=\"Biased\", alpha=0.5, edgecolor='black')\n",
    "decorate(xlabel=\"Number of children in household\", ylabel=\"Probability\")"
   ]
  },
  {
   "cell_type": "code",
   "execution_count": 82,
   "id": "c1506c1e-557d-4905-b4f5-c1907b35201b",
   "metadata": {},
   "outputs": [
    {
     "name": "stdout",
     "output_type": "stream",
     "text": [
      "Actual Mean: 1.024205155043831\n",
      "Biased Mean: 2.403679100664282\n"
     ]
    }
   ],
   "source": [
    "actual_mean = np.sum(pmf.ps * pmf.qs)\n",
    "biased_mean = np.sum(biased.ps * biased.qs)\n",
    "\n",
    "print(\"Actual Mean:\", actual_mean)\n",
    "print(\"Biased Mean:\", biased_mean)\n"
   ]
  },
  {
   "cell_type": "code",
   "execution_count": null,
   "id": "3c95cc16-09ca-4a08-b490-eb0a09730351",
   "metadata": {},
   "outputs": [],
   "source": []
  }
 ],
 "metadata": {
  "kernelspec": {
   "display_name": "Python 3 (ipykernel)",
   "language": "python",
   "name": "python3"
  },
  "language_info": {
   "codemirror_mode": {
    "name": "ipython",
    "version": 3
   },
   "file_extension": ".py",
   "mimetype": "text/x-python",
   "name": "python",
   "nbconvert_exporter": "python",
   "pygments_lexer": "ipython3",
   "version": "3.13.1"
  }
 },
 "nbformat": 4,
 "nbformat_minor": 5
}
